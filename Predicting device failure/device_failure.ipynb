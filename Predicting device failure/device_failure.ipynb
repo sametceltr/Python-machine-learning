{
 "cells": [
  {
   "cell_type": "code",
   "execution_count": 1,
   "id": "a66c24c9",
   "metadata": {},
   "outputs": [],
   "source": [
    "import pandas as pd\n",
    "import numpy as np"
   ]
  },
  {
   "cell_type": "code",
   "execution_count": 2,
   "id": "7eeb7519",
   "metadata": {},
   "outputs": [],
   "source": [
    "df = pd.read_csv(\"failure.csv\")"
   ]
  },
  {
   "cell_type": "code",
   "execution_count": 3,
   "id": "67646da4",
   "metadata": {},
   "outputs": [
    {
     "data": {
      "text/plain": [
       "date             304\n",
       "device          1168\n",
       "failure            2\n",
       "attribute1    123878\n",
       "attribute2       558\n",
       "attribute3        47\n",
       "attribute4       115\n",
       "attribute5        60\n",
       "attribute6     44838\n",
       "attribute7        28\n",
       "attribute8        28\n",
       "attribute9        65\n",
       "dtype: int64"
      ]
     },
     "execution_count": 3,
     "metadata": {},
     "output_type": "execute_result"
    }
   ],
   "source": [
    "df.nunique()"
   ]
  },
  {
   "cell_type": "code",
   "execution_count": 4,
   "id": "962b55da",
   "metadata": {},
   "outputs": [
    {
     "data": {
      "text/plain": [
       "Index(['date', 'device', 'failure', 'attribute1', 'attribute2', 'attribute3',\n",
       "       'attribute4', 'attribute5', 'attribute6', 'attribute7', 'attribute8',\n",
       "       'attribute9'],\n",
       "      dtype='object')"
      ]
     },
     "execution_count": 4,
     "metadata": {},
     "output_type": "execute_result"
    }
   ],
   "source": [
    "df.columns"
   ]
  },
  {
   "cell_type": "code",
   "execution_count": 5,
   "id": "825d9850",
   "metadata": {},
   "outputs": [],
   "source": [
    "df=df.astype({'attribute2':\"category\", 'attribute3':\"category\",'attribute4':\"category\",\n",
    " 'attribute5':\"category\",'attribute7':\"category\", 'attribute8':\"category\",\n",
    " 'attribute9':\"category\"})"
   ]
  },
  {
   "cell_type": "code",
   "execution_count": 6,
   "id": "6ad462c5",
   "metadata": {},
   "outputs": [
    {
     "name": "stdout",
     "output_type": "stream",
     "text": [
      "<class 'pandas.core.frame.DataFrame'>\n",
      "RangeIndex: 124494 entries, 0 to 124493\n",
      "Data columns (total 12 columns):\n",
      " #   Column      Non-Null Count   Dtype   \n",
      "---  ------      --------------   -----   \n",
      " 0   date        124494 non-null  object  \n",
      " 1   device      124494 non-null  object  \n",
      " 2   failure     124494 non-null  int64   \n",
      " 3   attribute1  124494 non-null  int64   \n",
      " 4   attribute2  124494 non-null  category\n",
      " 5   attribute3  124494 non-null  category\n",
      " 6   attribute4  124494 non-null  category\n",
      " 7   attribute5  124494 non-null  category\n",
      " 8   attribute6  124494 non-null  int64   \n",
      " 9   attribute7  124494 non-null  category\n",
      " 10  attribute8  124494 non-null  category\n",
      " 11  attribute9  124494 non-null  category\n",
      "dtypes: category(7), int64(3), object(2)\n",
      "memory usage: 5.7+ MB\n"
     ]
    }
   ],
   "source": [
    "df.info()"
   ]
  },
  {
   "cell_type": "code",
   "execution_count": 7,
   "id": "5335e920",
   "metadata": {},
   "outputs": [],
   "source": [
    "df= df.drop(columns=[\"device\", \"date\"])\n",
    "df_dummied= pd.get_dummies(df)"
   ]
  },
  {
   "cell_type": "code",
   "execution_count": 8,
   "id": "e552c6a1",
   "metadata": {},
   "outputs": [
    {
     "data": {
      "text/plain": [
       "0.9999999999999987"
      ]
     },
     "execution_count": 8,
     "metadata": {},
     "output_type": "execute_result"
    }
   ],
   "source": [
    "from sklearn.decomposition import PCA\n",
    "\n",
    "pca = PCA(n_components=100)\n",
    "pca.fit(df_dummied)\n",
    "PCA(n_components=1)\n",
    "pca.explained_variance_ratio_.sum()"
   ]
  },
  {
   "cell_type": "code",
   "execution_count": 9,
   "id": "42538ee5",
   "metadata": {},
   "outputs": [
    {
     "name": "stdout",
     "output_type": "stream",
     "text": [
      "<class 'pandas.core.frame.DataFrame'>\n",
      "RangeIndex: 124494 entries, 0 to 124493\n",
      "Data columns (total 10 columns):\n",
      " #   Column      Non-Null Count   Dtype   \n",
      "---  ------      --------------   -----   \n",
      " 0   failure     124494 non-null  int64   \n",
      " 1   attribute1  124494 non-null  int64   \n",
      " 2   attribute2  124494 non-null  category\n",
      " 3   attribute3  124494 non-null  category\n",
      " 4   attribute4  124494 non-null  category\n",
      " 5   attribute5  124494 non-null  category\n",
      " 6   attribute6  124494 non-null  int64   \n",
      " 7   attribute7  124494 non-null  category\n",
      " 8   attribute8  124494 non-null  category\n",
      " 9   attribute9  124494 non-null  category\n",
      "dtypes: category(7), int64(3)\n",
      "memory usage: 3.8 MB\n"
     ]
    }
   ],
   "source": [
    "df.info()"
   ]
  },
  {
   "cell_type": "code",
   "execution_count": 10,
   "id": "54be4bf8",
   "metadata": {},
   "outputs": [
    {
     "data": {
      "text/plain": [
       "Index(['failure', 'attribute1', 'attribute2', 'attribute3', 'attribute4',\n",
       "       'attribute5', 'attribute6', 'attribute7', 'attribute8', 'attribute9'],\n",
       "      dtype='object')"
      ]
     },
     "execution_count": 10,
     "metadata": {},
     "output_type": "execute_result"
    }
   ],
   "source": [
    "df.columns"
   ]
  },
  {
   "cell_type": "code",
   "execution_count": 11,
   "id": "47c1685e",
   "metadata": {},
   "outputs": [],
   "source": [
    "from sklearn.preprocessing import normalize, scale, MinMaxScaler\n",
    "df_scaled= df_dummied.copy()\n",
    "dftoscale= df_scaled[[\"attribute1\", \"attribute6\"]]\n",
    "df_scaled[['attribute1','attribute6']]=MinMaxScaler().fit_transform(dftoscale)"
   ]
  },
  {
   "cell_type": "code",
   "execution_count": 12,
   "id": "d3fed145",
   "metadata": {},
   "outputs": [
    {
     "data": {
      "text/html": [
       "<div>\n",
       "<style scoped>\n",
       "    .dataframe tbody tr th:only-of-type {\n",
       "        vertical-align: middle;\n",
       "    }\n",
       "\n",
       "    .dataframe tbody tr th {\n",
       "        vertical-align: top;\n",
       "    }\n",
       "\n",
       "    .dataframe thead th {\n",
       "        text-align: right;\n",
       "    }\n",
       "</style>\n",
       "<table border=\"1\" class=\"dataframe\">\n",
       "  <thead>\n",
       "    <tr style=\"text-align: right;\">\n",
       "      <th></th>\n",
       "      <th>failure</th>\n",
       "      <th>attribute1</th>\n",
       "      <th>attribute6</th>\n",
       "      <th>attribute2_0</th>\n",
       "      <th>attribute2_8</th>\n",
       "      <th>attribute2_16</th>\n",
       "      <th>attribute2_24</th>\n",
       "      <th>attribute2_32</th>\n",
       "      <th>attribute2_40</th>\n",
       "      <th>attribute2_48</th>\n",
       "      <th>...</th>\n",
       "      <th>attribute9_1165</th>\n",
       "      <th>attribute9_1864</th>\n",
       "      <th>attribute9_2269</th>\n",
       "      <th>attribute9_2270</th>\n",
       "      <th>attribute9_2522</th>\n",
       "      <th>attribute9_2637</th>\n",
       "      <th>attribute9_2794</th>\n",
       "      <th>attribute9_7226</th>\n",
       "      <th>attribute9_10137</th>\n",
       "      <th>attribute9_18701</th>\n",
       "    </tr>\n",
       "  </thead>\n",
       "  <tbody>\n",
       "    <tr>\n",
       "      <th>0</th>\n",
       "      <td>0</td>\n",
       "      <td>0.883224</td>\n",
       "      <td>0.591204</td>\n",
       "      <td>0</td>\n",
       "      <td>0</td>\n",
       "      <td>0</td>\n",
       "      <td>0</td>\n",
       "      <td>0</td>\n",
       "      <td>0</td>\n",
       "      <td>0</td>\n",
       "      <td>...</td>\n",
       "      <td>0</td>\n",
       "      <td>0</td>\n",
       "      <td>0</td>\n",
       "      <td>0</td>\n",
       "      <td>0</td>\n",
       "      <td>0</td>\n",
       "      <td>0</td>\n",
       "      <td>0</td>\n",
       "      <td>0</td>\n",
       "      <td>0</td>\n",
       "    </tr>\n",
       "    <tr>\n",
       "      <th>1</th>\n",
       "      <td>0</td>\n",
       "      <td>0.251374</td>\n",
       "      <td>0.585017</td>\n",
       "      <td>1</td>\n",
       "      <td>0</td>\n",
       "      <td>0</td>\n",
       "      <td>0</td>\n",
       "      <td>0</td>\n",
       "      <td>0</td>\n",
       "      <td>0</td>\n",
       "      <td>...</td>\n",
       "      <td>0</td>\n",
       "      <td>0</td>\n",
       "      <td>0</td>\n",
       "      <td>0</td>\n",
       "      <td>0</td>\n",
       "      <td>0</td>\n",
       "      <td>0</td>\n",
       "      <td>0</td>\n",
       "      <td>0</td>\n",
       "      <td>0</td>\n",
       "    </tr>\n",
       "    <tr>\n",
       "      <th>2</th>\n",
       "      <td>0</td>\n",
       "      <td>0.709821</td>\n",
       "      <td>0.344461</td>\n",
       "      <td>1</td>\n",
       "      <td>0</td>\n",
       "      <td>0</td>\n",
       "      <td>0</td>\n",
       "      <td>0</td>\n",
       "      <td>0</td>\n",
       "      <td>0</td>\n",
       "      <td>...</td>\n",
       "      <td>0</td>\n",
       "      <td>0</td>\n",
       "      <td>0</td>\n",
       "      <td>0</td>\n",
       "      <td>0</td>\n",
       "      <td>0</td>\n",
       "      <td>0</td>\n",
       "      <td>0</td>\n",
       "      <td>0</td>\n",
       "      <td>0</td>\n",
       "    </tr>\n",
       "    <tr>\n",
       "      <th>3</th>\n",
       "      <td>0</td>\n",
       "      <td>0.326427</td>\n",
       "      <td>0.595191</td>\n",
       "      <td>1</td>\n",
       "      <td>0</td>\n",
       "      <td>0</td>\n",
       "      <td>0</td>\n",
       "      <td>0</td>\n",
       "      <td>0</td>\n",
       "      <td>0</td>\n",
       "      <td>...</td>\n",
       "      <td>0</td>\n",
       "      <td>0</td>\n",
       "      <td>0</td>\n",
       "      <td>0</td>\n",
       "      <td>0</td>\n",
       "      <td>0</td>\n",
       "      <td>0</td>\n",
       "      <td>0</td>\n",
       "      <td>0</td>\n",
       "      <td>0</td>\n",
       "    </tr>\n",
       "    <tr>\n",
       "      <th>4</th>\n",
       "      <td>0</td>\n",
       "      <td>0.556935</td>\n",
       "      <td>0.454420</td>\n",
       "      <td>1</td>\n",
       "      <td>0</td>\n",
       "      <td>0</td>\n",
       "      <td>0</td>\n",
       "      <td>0</td>\n",
       "      <td>0</td>\n",
       "      <td>0</td>\n",
       "      <td>...</td>\n",
       "      <td>0</td>\n",
       "      <td>0</td>\n",
       "      <td>0</td>\n",
       "      <td>0</td>\n",
       "      <td>0</td>\n",
       "      <td>0</td>\n",
       "      <td>0</td>\n",
       "      <td>0</td>\n",
       "      <td>0</td>\n",
       "      <td>0</td>\n",
       "    </tr>\n",
       "    <tr>\n",
       "      <th>...</th>\n",
       "      <td>...</td>\n",
       "      <td>...</td>\n",
       "      <td>...</td>\n",
       "      <td>...</td>\n",
       "      <td>...</td>\n",
       "      <td>...</td>\n",
       "      <td>...</td>\n",
       "      <td>...</td>\n",
       "      <td>...</td>\n",
       "      <td>...</td>\n",
       "      <td>...</td>\n",
       "      <td>...</td>\n",
       "      <td>...</td>\n",
       "      <td>...</td>\n",
       "      <td>...</td>\n",
       "      <td>...</td>\n",
       "      <td>...</td>\n",
       "      <td>...</td>\n",
       "      <td>...</td>\n",
       "      <td>...</td>\n",
       "      <td>...</td>\n",
       "    </tr>\n",
       "    <tr>\n",
       "      <th>124489</th>\n",
       "      <td>0</td>\n",
       "      <td>0.074999</td>\n",
       "      <td>0.513234</td>\n",
       "      <td>1</td>\n",
       "      <td>0</td>\n",
       "      <td>0</td>\n",
       "      <td>0</td>\n",
       "      <td>0</td>\n",
       "      <td>0</td>\n",
       "      <td>0</td>\n",
       "      <td>...</td>\n",
       "      <td>0</td>\n",
       "      <td>0</td>\n",
       "      <td>0</td>\n",
       "      <td>0</td>\n",
       "      <td>0</td>\n",
       "      <td>0</td>\n",
       "      <td>0</td>\n",
       "      <td>0</td>\n",
       "      <td>0</td>\n",
       "      <td>0</td>\n",
       "    </tr>\n",
       "    <tr>\n",
       "      <th>124490</th>\n",
       "      <td>0</td>\n",
       "      <td>0.706793</td>\n",
       "      <td>0.482888</td>\n",
       "      <td>0</td>\n",
       "      <td>0</td>\n",
       "      <td>0</td>\n",
       "      <td>0</td>\n",
       "      <td>0</td>\n",
       "      <td>0</td>\n",
       "      <td>0</td>\n",
       "      <td>...</td>\n",
       "      <td>0</td>\n",
       "      <td>0</td>\n",
       "      <td>0</td>\n",
       "      <td>0</td>\n",
       "      <td>0</td>\n",
       "      <td>0</td>\n",
       "      <td>0</td>\n",
       "      <td>0</td>\n",
       "      <td>0</td>\n",
       "      <td>0</td>\n",
       "    </tr>\n",
       "    <tr>\n",
       "      <th>124491</th>\n",
       "      <td>0</td>\n",
       "      <td>0.077943</td>\n",
       "      <td>0.508453</td>\n",
       "      <td>0</td>\n",
       "      <td>0</td>\n",
       "      <td>0</td>\n",
       "      <td>0</td>\n",
       "      <td>0</td>\n",
       "      <td>0</td>\n",
       "      <td>0</td>\n",
       "      <td>...</td>\n",
       "      <td>0</td>\n",
       "      <td>0</td>\n",
       "      <td>0</td>\n",
       "      <td>0</td>\n",
       "      <td>0</td>\n",
       "      <td>0</td>\n",
       "      <td>0</td>\n",
       "      <td>0</td>\n",
       "      <td>0</td>\n",
       "      <td>0</td>\n",
       "    </tr>\n",
       "    <tr>\n",
       "      <th>124492</th>\n",
       "      <td>0</td>\n",
       "      <td>0.929602</td>\n",
       "      <td>0.520889</td>\n",
       "      <td>1</td>\n",
       "      <td>0</td>\n",
       "      <td>0</td>\n",
       "      <td>0</td>\n",
       "      <td>0</td>\n",
       "      <td>0</td>\n",
       "      <td>0</td>\n",
       "      <td>...</td>\n",
       "      <td>0</td>\n",
       "      <td>0</td>\n",
       "      <td>0</td>\n",
       "      <td>0</td>\n",
       "      <td>0</td>\n",
       "      <td>0</td>\n",
       "      <td>0</td>\n",
       "      <td>0</td>\n",
       "      <td>0</td>\n",
       "      <td>0</td>\n",
       "    </tr>\n",
       "    <tr>\n",
       "      <th>124493</th>\n",
       "      <td>0</td>\n",
       "      <td>0.071978</td>\n",
       "      <td>0.509935</td>\n",
       "      <td>1</td>\n",
       "      <td>0</td>\n",
       "      <td>0</td>\n",
       "      <td>0</td>\n",
       "      <td>0</td>\n",
       "      <td>0</td>\n",
       "      <td>0</td>\n",
       "      <td>...</td>\n",
       "      <td>0</td>\n",
       "      <td>0</td>\n",
       "      <td>0</td>\n",
       "      <td>0</td>\n",
       "      <td>0</td>\n",
       "      <td>0</td>\n",
       "      <td>0</td>\n",
       "      <td>0</td>\n",
       "      <td>0</td>\n",
       "      <td>0</td>\n",
       "    </tr>\n",
       "  </tbody>\n",
       "</table>\n",
       "<p>124494 rows × 904 columns</p>\n",
       "</div>"
      ],
      "text/plain": [
       "        failure  attribute1  attribute6  attribute2_0  attribute2_8  \\\n",
       "0             0    0.883224    0.591204             0             0   \n",
       "1             0    0.251374    0.585017             1             0   \n",
       "2             0    0.709821    0.344461             1             0   \n",
       "3             0    0.326427    0.595191             1             0   \n",
       "4             0    0.556935    0.454420             1             0   \n",
       "...         ...         ...         ...           ...           ...   \n",
       "124489        0    0.074999    0.513234             1             0   \n",
       "124490        0    0.706793    0.482888             0             0   \n",
       "124491        0    0.077943    0.508453             0             0   \n",
       "124492        0    0.929602    0.520889             1             0   \n",
       "124493        0    0.071978    0.509935             1             0   \n",
       "\n",
       "        attribute2_16  attribute2_24  attribute2_32  attribute2_40  \\\n",
       "0                   0              0              0              0   \n",
       "1                   0              0              0              0   \n",
       "2                   0              0              0              0   \n",
       "3                   0              0              0              0   \n",
       "4                   0              0              0              0   \n",
       "...               ...            ...            ...            ...   \n",
       "124489              0              0              0              0   \n",
       "124490              0              0              0              0   \n",
       "124491              0              0              0              0   \n",
       "124492              0              0              0              0   \n",
       "124493              0              0              0              0   \n",
       "\n",
       "        attribute2_48  ...  attribute9_1165  attribute9_1864  attribute9_2269  \\\n",
       "0                   0  ...                0                0                0   \n",
       "1                   0  ...                0                0                0   \n",
       "2                   0  ...                0                0                0   \n",
       "3                   0  ...                0                0                0   \n",
       "4                   0  ...                0                0                0   \n",
       "...               ...  ...              ...              ...              ...   \n",
       "124489              0  ...                0                0                0   \n",
       "124490              0  ...                0                0                0   \n",
       "124491              0  ...                0                0                0   \n",
       "124492              0  ...                0                0                0   \n",
       "124493              0  ...                0                0                0   \n",
       "\n",
       "        attribute9_2270  attribute9_2522  attribute9_2637  attribute9_2794  \\\n",
       "0                     0                0                0                0   \n",
       "1                     0                0                0                0   \n",
       "2                     0                0                0                0   \n",
       "3                     0                0                0                0   \n",
       "4                     0                0                0                0   \n",
       "...                 ...              ...              ...              ...   \n",
       "124489                0                0                0                0   \n",
       "124490                0                0                0                0   \n",
       "124491                0                0                0                0   \n",
       "124492                0                0                0                0   \n",
       "124493                0                0                0                0   \n",
       "\n",
       "        attribute9_7226  attribute9_10137  attribute9_18701  \n",
       "0                     0                 0                 0  \n",
       "1                     0                 0                 0  \n",
       "2                     0                 0                 0  \n",
       "3                     0                 0                 0  \n",
       "4                     0                 0                 0  \n",
       "...                 ...               ...               ...  \n",
       "124489                0                 0                 0  \n",
       "124490                0                 0                 0  \n",
       "124491                0                 0                 0  \n",
       "124492                0                 0                 0  \n",
       "124493                0                 0                 0  \n",
       "\n",
       "[124494 rows x 904 columns]"
      ]
     },
     "execution_count": 12,
     "metadata": {},
     "output_type": "execute_result"
    }
   ],
   "source": [
    "df_scaled"
   ]
  },
  {
   "cell_type": "code",
   "execution_count": 13,
   "id": "484ad0a9",
   "metadata": {},
   "outputs": [],
   "source": [
    "data= df_scaled"
   ]
  },
  {
   "cell_type": "code",
   "execution_count": 14,
   "id": "e0fd2276",
   "metadata": {},
   "outputs": [
    {
     "data": {
      "text/plain": [
       "0    124388\n",
       "1       106\n",
       "Name: failure, dtype: int64"
      ]
     },
     "execution_count": 14,
     "metadata": {},
     "output_type": "execute_result"
    }
   ],
   "source": [
    "data[\"failure\"].value_counts()"
   ]
  },
  {
   "cell_type": "code",
   "execution_count": 15,
   "id": "2f618c3a",
   "metadata": {},
   "outputs": [],
   "source": [
    "from sklearn.utils import resample\n",
    "#create two different dataframe of majority and minority class \n",
    "data_majority = data[(data['failure']==0)] \n",
    "data_minority = data[(data['failure']==1)] \n",
    "# upsample minority class\n",
    "data_minority_oversampled = resample(data_minority, \n",
    "                                 replace=True,    # sample with replacement\n",
    "                                 n_samples= 31000, # to match majority class\n",
    "                                 random_state=42)  # reproducible results\n",
    "# Combine majority class with upsampled minority class\n",
    "data_oversampled = pd.concat([data_minority_oversampled, data_majority])"
   ]
  },
  {
   "cell_type": "code",
   "execution_count": 16,
   "id": "87911e3c",
   "metadata": {},
   "outputs": [],
   "source": [
    "dfinal=data_oversampled.sort_index().reset_index()"
   ]
  },
  {
   "cell_type": "code",
   "execution_count": 17,
   "id": "02c4a0bd",
   "metadata": {},
   "outputs": [],
   "source": [
    "dfinal.to_csv(\"dfinal.csv\")"
   ]
  },
  {
   "cell_type": "code",
   "execution_count": 18,
   "id": "47adc8c4",
   "metadata": {},
   "outputs": [],
   "source": [
    "y, X= dfinal[\"failure\"], dfinal.drop([\"failure\"], axis=1)"
   ]
  },
  {
   "cell_type": "code",
   "execution_count": 19,
   "id": "b5da08f6",
   "metadata": {},
   "outputs": [],
   "source": [
    "from sklearn.model_selection import train_test_split\n",
    "\n",
    "X_train, X_test, y_train, y_test = train_test_split(X,y,test_size=0.25,random_state=101)"
   ]
  },
  {
   "cell_type": "code",
   "execution_count": 20,
   "id": "b7bc2608",
   "metadata": {},
   "outputs": [],
   "source": [
    "from sklearn.linear_model import LogisticRegression\n",
    "clf = LogisticRegression(class_weight={0:1,1:1000})"
   ]
  },
  {
   "cell_type": "code",
   "execution_count": 21,
   "id": "102aa86d",
   "metadata": {},
   "outputs": [],
   "source": [
    "from sklearn.linear_model import RidgeClassifier\n",
    "from sklearn.naive_bayes import GaussianNB\n",
    "from sklearn.naive_bayes import BernoulliNB\n",
    "from sklearn.neighbors import KNeighborsClassifier\n",
    "from sklearn.tree import DecisionTreeClassifier\n",
    "from sklearn.ensemble import GradientBoostingClassifier\n",
    "from sklearn.ensemble import RandomForestClassifier\n",
    "from sklearn.svm import SVC"
   ]
  },
  {
   "cell_type": "code",
   "execution_count": 22,
   "id": "cd681cb5",
   "metadata": {},
   "outputs": [],
   "source": [
    "from sklearn.metrics import accuracy_score, precision_score, recall_score, f1_score\n",
    "from sklearn.metrics import confusion_matrix, classification_report, roc_auc_score"
   ]
  },
  {
   "cell_type": "markdown",
   "id": "8859cffb",
   "metadata": {},
   "source": [
    "## BALANCED BAG"
   ]
  },
  {
   "cell_type": "raw",
   "id": "97173044",
   "metadata": {},
   "source": [
    "from imblearn.ensemble import BalancedBaggingClassifier\n",
    "from sklearn.tree import DecisionTreeClassifier\n",
    "#Create an instance\n",
    "classifier = BalancedBaggingClassifier(base_estimator=DecisionTreeClassifier(),\n",
    "                                sampling_strategy='not majority',\n",
    "                                replacement=False,\n",
    "                                random_state=42)\n",
    "classifier.fit(X_train, y_train)\n",
    "y_pred = classifier.predict(X_test)\n",
    "print(f1_score(y_test, y_pred))"
   ]
  },
  {
   "cell_type": "raw",
   "id": "e7d73901",
   "metadata": {},
   "source": [
    "rf_model = DecisionTreeClassifier()\n",
    "rf_model.fit(X_train,y_train)   \n",
    "rf_model.predict_proba(X_test) #probability of the class label"
   ]
  },
  {
   "cell_type": "raw",
   "id": "d5663c9f",
   "metadata": {},
   "source": [
    "step_factor = 0.05 \n",
    "threshold_value = 0.2 \n",
    "roc_score=0\n",
    "predicted_proba = rf_model.predict_proba(X_test) #probability of prediction\n",
    "while threshold_value <=0.8: #continue to check best threshold upto probability 0.8\n",
    "    temp_thresh = threshold_value\n",
    "    predicted = (predicted_proba [:,1] >= temp_thresh).astype('int') #change the class boundary for prediction\n",
    "    print('Threshold',temp_thresh,'--',roc_auc_score(y_test, predicted))\n",
    "    if roc_score<roc_auc_score(y_test, predicted): #store the threshold for best classification\n",
    "        roc_score = roc_auc_score(y_test, predicted)\n",
    "        thrsh_score = threshold_value\n",
    "    threshold_value = threshold_value + step_factor\n",
    "print('---Optimum Threshold ---',thrsh_score,'--ROC--',roc_score)"
   ]
  },
  {
   "cell_type": "raw",
   "id": "e7e92239",
   "metadata": {},
   "source": [
    "rf_model = DecisionTreeClassifier()\n",
    "rf_model.fit(X_train,y_train)   \n",
    "rf_model.predict(X_test)\n",
    "print(f1_score(X))"
   ]
  },
  {
   "cell_type": "markdown",
   "id": "6624dec9",
   "metadata": {},
   "source": [
    "# ---------------------------------------------------------------------"
   ]
  },
  {
   "cell_type": "code",
   "execution_count": 23,
   "id": "0185bb0a",
   "metadata": {},
   "outputs": [],
   "source": [
    "R= RidgeClassifier()\n",
    "GNB= GaussianNB()\n",
    "BNB= BernoulliNB()\n",
    "KNC= KNeighborsClassifier(weights=\"distance\")\n",
    "DTC= DecisionTreeClassifier()\n",
    "RFC= RandomForestClassifier() \n",
    "SVC= SVC()\n",
    "mlist= [R,KNC,DTC,RFC]"
   ]
  },
  {
   "cell_type": "code",
   "execution_count": 24,
   "id": "4f4b0a80",
   "metadata": {},
   "outputs": [],
   "source": [
    " def classify():\n",
    "        for classifier in mlist:\n",
    "            classifier.fit(X_train,y_train)\n",
    "            y_pred= classifier.predict(X_test)\n",
    "            print(accuracy_score(y_test, y_pred), precision_score(y_test, y_pred), recall_score(y_test, y_pred),\n",
    "                  f1_score(y_test, y_pred))"
   ]
  },
  {
   "cell_type": "code",
   "execution_count": 25,
   "id": "c1d16997",
   "metadata": {},
   "outputs": [
    {
     "name": "stdout",
     "output_type": "stream",
     "text": [
      "0.952068370787963 0.9187294319645156 0.8322747893713545 0.8733677910772578\n",
      "0.998455479187582 0.992282958199357 1.0 0.9961265332472563\n",
      "0.9989188354313074 0.9945855356452237 1.0 0.9972854188210962\n",
      "0.9995881277833553 0.9979304100375114 1.0 0.9989641331088955\n"
     ]
    }
   ],
   "source": [
    "classify()"
   ]
  },
  {
   "cell_type": "code",
   "execution_count": null,
   "id": "b6a9763a",
   "metadata": {},
   "outputs": [],
   "source": []
  }
 ],
 "metadata": {
  "kernelspec": {
   "display_name": "Python 3 (ipykernel)",
   "language": "python",
   "name": "python3"
  },
  "language_info": {
   "codemirror_mode": {
    "name": "ipython",
    "version": 3
   },
   "file_extension": ".py",
   "mimetype": "text/x-python",
   "name": "python",
   "nbconvert_exporter": "python",
   "pygments_lexer": "ipython3",
   "version": "3.9.7"
  }
 },
 "nbformat": 4,
 "nbformat_minor": 5
}
