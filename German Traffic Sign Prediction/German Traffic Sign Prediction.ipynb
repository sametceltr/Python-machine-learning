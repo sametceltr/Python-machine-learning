{
 "cells": [
  {
   "cell_type": "code",
   "execution_count": 1,
   "id": "38222d4c",
   "metadata": {},
   "outputs": [],
   "source": [
    "import pandas as pd\n",
    "import cv2\n",
    "import seaborn as sns\n",
    "import matplotlib.pyplot as plt\n",
    "%matplotlib inline\n",
    "from tqdm.auto import tqdm\n",
    "import numpy as np"
   ]
  },
  {
   "cell_type": "code",
   "execution_count": 2,
   "id": "98dadc44",
   "metadata": {},
   "outputs": [],
   "source": [
    "import os\n",
    "os.environ['CUDA_VISIBLE_DEVICES'] = '-1'"
   ]
  },
  {
   "cell_type": "code",
   "execution_count": 3,
   "id": "24646701",
   "metadata": {},
   "outputs": [],
   "source": [
    "df_train = pd.read_csv(\"archive\\\\Train.csv\")\n",
    "df_test = pd.read_csv(\"archive\\\\Test.csv\")\n",
    "df_train[\"split\"], df_test[\"split\"] = \"train\", \"test\"\n",
    "df = pd.concat([df_train, df_test])\n",
    "df = df.reset_index(drop=True)"
   ]
  },
  {
   "cell_type": "code",
   "execution_count": 4,
   "id": "995c1376",
   "metadata": {},
   "outputs": [],
   "source": [
    "wd = os.getcwd() + \"\\\\archive\\\\\"\n",
    "path = wd + df_train[\"Path\"][0]"
   ]
  },
  {
   "cell_type": "code",
   "execution_count": 5,
   "id": "e11c1143",
   "metadata": {},
   "outputs": [
    {
     "data": {
      "text/plain": [
       "<matplotlib.image.AxesImage at 0x177b090f100>"
      ]
     },
     "execution_count": 5,
     "metadata": {},
     "output_type": "execute_result"
    },
    {
     "data": {
      "image/png": "[encoded data removed]",
      "text/plain": [
       "<Figure size 432x288 with 1 Axes>"
      ]
     },
     "metadata": {
      "needs_background": "light"
     },
     "output_type": "display_data"
    }
   ],
   "source": [
    "y = cv2.imread(path)\n",
    "plt.imshow(y)"
   ]
  },
  {
   "cell_type": "code",
   "execution_count": 6,
   "id": "978ad8b1",
   "metadata": {},
   "outputs": [
    {
     "data": {
      "text/html": [
       "<div>\n",
       "<style scoped>\n",
       "    .dataframe tbody tr th:only-of-type {\n",
       "        vertical-align: middle;\n",
       "    }\n",
       "\n",
       "    .dataframe tbody tr th {\n",
       "        vertical-align: top;\n",
       "    }\n",
       "\n",
       "    .dataframe thead th {\n",
       "        text-align: right;\n",
       "    }\n",
       "</style>\n",
       "<table border=\"1\" class=\"dataframe\">\n",
       "  <thead>\n",
       "    <tr style=\"text-align: right;\">\n",
       "      <th></th>\n",
       "      <th>Width</th>\n",
       "      <th>Height</th>\n",
       "      <th>Roi.X1</th>\n",
       "      <th>Roi.Y1</th>\n",
       "      <th>Roi.X2</th>\n",
       "      <th>Roi.Y2</th>\n",
       "      <th>ClassId</th>\n",
       "      <th>Path</th>\n",
       "      <th>split</th>\n",
       "    </tr>\n",
       "  </thead>\n",
       "  <tbody>\n",
       "    <tr>\n",
       "      <th>0</th>\n",
       "      <td>27</td>\n",
       "      <td>26</td>\n",
       "      <td>5</td>\n",
       "      <td>5</td>\n",
       "      <td>22</td>\n",
       "      <td>20</td>\n",
       "      <td>20</td>\n",
       "      <td>Train/20/00020_00000_00000.png</td>\n",
       "      <td>train</td>\n",
       "    </tr>\n",
       "    <tr>\n",
       "      <th>1</th>\n",
       "      <td>28</td>\n",
       "      <td>27</td>\n",
       "      <td>5</td>\n",
       "      <td>6</td>\n",
       "      <td>23</td>\n",
       "      <td>22</td>\n",
       "      <td>20</td>\n",
       "      <td>Train/20/00020_00000_00001.png</td>\n",
       "      <td>train</td>\n",
       "    </tr>\n",
       "    <tr>\n",
       "      <th>2</th>\n",
       "      <td>29</td>\n",
       "      <td>26</td>\n",
       "      <td>6</td>\n",
       "      <td>5</td>\n",
       "      <td>24</td>\n",
       "      <td>21</td>\n",
       "      <td>20</td>\n",
       "      <td>Train/20/00020_00000_00002.png</td>\n",
       "      <td>train</td>\n",
       "    </tr>\n",
       "    <tr>\n",
       "      <th>3</th>\n",
       "      <td>28</td>\n",
       "      <td>27</td>\n",
       "      <td>5</td>\n",
       "      <td>6</td>\n",
       "      <td>23</td>\n",
       "      <td>22</td>\n",
       "      <td>20</td>\n",
       "      <td>Train/20/00020_00000_00003.png</td>\n",
       "      <td>train</td>\n",
       "    </tr>\n",
       "    <tr>\n",
       "      <th>4</th>\n",
       "      <td>28</td>\n",
       "      <td>26</td>\n",
       "      <td>5</td>\n",
       "      <td>5</td>\n",
       "      <td>23</td>\n",
       "      <td>21</td>\n",
       "      <td>20</td>\n",
       "      <td>Train/20/00020_00000_00004.png</td>\n",
       "      <td>train</td>\n",
       "    </tr>\n",
       "    <tr>\n",
       "      <th>...</th>\n",
       "      <td>...</td>\n",
       "      <td>...</td>\n",
       "      <td>...</td>\n",
       "      <td>...</td>\n",
       "      <td>...</td>\n",
       "      <td>...</td>\n",
       "      <td>...</td>\n",
       "      <td>...</td>\n",
       "      <td>...</td>\n",
       "    </tr>\n",
       "    <tr>\n",
       "      <th>39204</th>\n",
       "      <td>52</td>\n",
       "      <td>56</td>\n",
       "      <td>5</td>\n",
       "      <td>6</td>\n",
       "      <td>47</td>\n",
       "      <td>51</td>\n",
       "      <td>42</td>\n",
       "      <td>Train/42/00042_00007_00025.png</td>\n",
       "      <td>train</td>\n",
       "    </tr>\n",
       "    <tr>\n",
       "      <th>39205</th>\n",
       "      <td>56</td>\n",
       "      <td>58</td>\n",
       "      <td>5</td>\n",
       "      <td>5</td>\n",
       "      <td>51</td>\n",
       "      <td>53</td>\n",
       "      <td>42</td>\n",
       "      <td>Train/42/00042_00007_00026.png</td>\n",
       "      <td>train</td>\n",
       "    </tr>\n",
       "    <tr>\n",
       "      <th>39206</th>\n",
       "      <td>58</td>\n",
       "      <td>62</td>\n",
       "      <td>5</td>\n",
       "      <td>6</td>\n",
       "      <td>53</td>\n",
       "      <td>57</td>\n",
       "      <td>42</td>\n",
       "      <td>Train/42/00042_00007_00027.png</td>\n",
       "      <td>train</td>\n",
       "    </tr>\n",
       "    <tr>\n",
       "      <th>39207</th>\n",
       "      <td>63</td>\n",
       "      <td>69</td>\n",
       "      <td>5</td>\n",
       "      <td>7</td>\n",
       "      <td>58</td>\n",
       "      <td>63</td>\n",
       "      <td>42</td>\n",
       "      <td>Train/42/00042_00007_00028.png</td>\n",
       "      <td>train</td>\n",
       "    </tr>\n",
       "    <tr>\n",
       "      <th>39208</th>\n",
       "      <td>68</td>\n",
       "      <td>69</td>\n",
       "      <td>7</td>\n",
       "      <td>6</td>\n",
       "      <td>62</td>\n",
       "      <td>63</td>\n",
       "      <td>42</td>\n",
       "      <td>Train/42/00042_00007_00029.png</td>\n",
       "      <td>train</td>\n",
       "    </tr>\n",
       "  </tbody>\n",
       "</table>\n",
       "<p>39209 rows × 9 columns</p>\n",
       "</div>"
      ],
      "text/plain": [
       "       Width  Height  Roi.X1  Roi.Y1  Roi.X2  Roi.Y2  ClassId  \\\n",
       "0         27      26       5       5      22      20       20   \n",
       "1         28      27       5       6      23      22       20   \n",
       "2         29      26       6       5      24      21       20   \n",
       "3         28      27       5       6      23      22       20   \n",
       "4         28      26       5       5      23      21       20   \n",
       "...      ...     ...     ...     ...     ...     ...      ...   \n",
       "39204     52      56       5       6      47      51       42   \n",
       "39205     56      58       5       5      51      53       42   \n",
       "39206     58      62       5       6      53      57       42   \n",
       "39207     63      69       5       7      58      63       42   \n",
       "39208     68      69       7       6      62      63       42   \n",
       "\n",
       "                                 Path  split  \n",
       "0      Train/20/00020_00000_00000.png  train  \n",
       "1      Train/20/00020_00000_00001.png  train  \n",
       "2      Train/20/00020_00000_00002.png  train  \n",
       "3      Train/20/00020_00000_00003.png  train  \n",
       "4      Train/20/00020_00000_00004.png  train  \n",
       "...                               ...    ...  \n",
       "39204  Train/42/00042_00007_00025.png  train  \n",
       "39205  Train/42/00042_00007_00026.png  train  \n",
       "39206  Train/42/00042_00007_00027.png  train  \n",
       "39207  Train/42/00042_00007_00028.png  train  \n",
       "39208  Train/42/00042_00007_00029.png  train  \n",
       "\n",
       "[39209 rows x 9 columns]"
      ]
     },
     "execution_count": 6,
     "metadata": {},
     "output_type": "execute_result"
    }
   ],
   "source": [
    "df_train"
   ]
  },
  {
   "cell_type": "code",
   "execution_count": 7,
   "id": "76e4d417",
   "metadata": {},
   "outputs": [
    {
     "data": {
      "image/png": "[encoded data removed]",
      "text/plain": [
       "<Figure size 432x288 with 1 Axes>"
      ]
     },
     "metadata": {
      "needs_background": "light"
     },
     "output_type": "display_data"
    }
   ],
   "source": [
    "import seaborn as sns\n",
    "\n",
    "sns.scatterplot(x=df[\"Width\"],y=df[\"Height\"])\n",
    "plt.show()"
   ]
  },
  {
   "cell_type": "code",
   "execution_count": 8,
   "id": "dedd05da",
   "metadata": {},
   "outputs": [
    {
     "data": {
      "text/plain": [
       "<AxesSubplot:ylabel='Density'>"
      ]
     },
     "execution_count": 8,
     "metadata": {},
     "output_type": "execute_result"
    },
    {
     "data": {
      "image/png": "[encoded data removed]",
      "text/plain": [
       "<Figure size 432x288 with 1 Axes>"
      ]
     },
     "metadata": {
      "needs_background": "light"
     },
     "output_type": "display_data"
    }
   ],
   "source": [
    "sns.kdeplot(df[\"Height\"]/df[\"Width\"])"
   ]
  },
  {
   "cell_type": "code",
   "execution_count": 9,
   "id": "56a6f6e7",
   "metadata": {},
   "outputs": [
    {
     "data": {
      "image/png": "[encoded data removed]",
      "text/plain": [
       "<Figure size 1080x432 with 2 Axes>"
      ]
     },
     "metadata": {
      "needs_background": "light"
     },
     "output_type": "display_data"
    }
   ],
   "source": [
    "fig, axs = plt.subplots(ncols=2,figsize=(15, 6))\n",
    "sns.boxplot(x=df[\"Width\"], ax=axs[0])\n",
    "axs[0].title.set_text(\"Width\")\n",
    "sns.boxplot(x=df[\"Height\"], ax=axs[1])\n",
    "axs[1].title.set_text(\"Height\")"
   ]
  },
  {
   "cell_type": "code",
   "execution_count": 10,
   "id": "f5ba5d2a",
   "metadata": {},
   "outputs": [
    {
     "name": "stdout",
     "output_type": "stream",
     "text": [
      "(44, 49, 3)\n"
     ]
    },
    {
     "data": {
      "text/plain": [
       "<matplotlib.image.AxesImage at 0x177b1051c40>"
      ]
     },
     "execution_count": 10,
     "metadata": {},
     "output_type": "execute_result"
    },
    {
     "data": {
      "image/png": "[encoded data removed]",
      "text/plain": [
       "<Figure size 432x288 with 1 Axes>"
      ]
     },
     "metadata": {
      "needs_background": "light"
     },
     "output_type": "display_data"
    }
   ],
   "source": [
    "path2 = wd + df[\"Path\"][199]\n",
    "image2 = cv2.imread(path2)\n",
    "print(image2.shape)\n",
    "plt.imshow(image2)"
   ]
  },
  {
   "cell_type": "code",
   "execution_count": 11,
   "id": "7e618844",
   "metadata": {},
   "outputs": [
    {
     "name": "stdout",
     "output_type": "stream",
     "text": [
      "(50, 50, 3)\n"
     ]
    },
    {
     "data": {
      "text/plain": [
       "<matplotlib.image.AxesImage at 0x177b10ecfd0>"
      ]
     },
     "execution_count": 11,
     "metadata": {},
     "output_type": "execute_result"
    },
    {
     "data": {
      "image/png": "[encoded data removed]",
      "text/plain": [
       "<Figure size 432x288 with 1 Axes>"
      ]
     },
     "metadata": {
      "needs_background": "light"
     },
     "output_type": "display_data"
    }
   ],
   "source": [
    "a = cv2.resize(image2, (50, 50))\n",
    "print(a.shape)\n",
    "plt.imshow(a)"
   ]
  },
  {
   "cell_type": "code",
   "execution_count": 12,
   "id": "c048db15",
   "metadata": {},
   "outputs": [
    {
     "data": {
      "text/plain": [
       "50"
      ]
     },
     "execution_count": 12,
     "metadata": {},
     "output_type": "execute_result"
    }
   ],
   "source": [
    "int((df[\"Height\"].mean() + df[\"Width\"].mean())/2)"
   ]
  },
  {
   "cell_type": "raw",
   "id": "fd4e5b26",
   "metadata": {},
   "source": [
    "df_fixed = df[(df[\"Width\"] <=200)&(df[\"Height\"] <=200)]\n",
    "df_fixe"
   ]
  },
  {
   "cell_type": "raw",
   "id": "c649fa4d",
   "metadata": {},
   "source": [
    "outlier_count = df.shape[0]-df_fixed.shape[0]\n",
    "outlier_percentage = (outlier_count)/(df.shape[0])*100\n",
    "print(\"outlier count:%d ---------------- outlier percentage:%s\" % (outlier_count,outlier_percentage))"
   ]
  },
  {
   "cell_type": "code",
   "execution_count": 13,
   "id": "eba5a1c9",
   "metadata": {},
   "outputs": [],
   "source": [
    "df_train, df_test = df[df[\"split\"]==\"train\"], df[df[\"split\"]==\"test\"]\n",
    "df_train.reset_index(drop=True, inplace=True)\n",
    "df_test.reset_index(drop=True, inplace=True)"
   ]
  },
  {
   "cell_type": "code",
   "execution_count": 14,
   "id": "f9557f9f",
   "metadata": {},
   "outputs": [],
   "source": [
    "def image_prep(df, resize=True, shape=(50,50)):\n",
    "    images = []\n",
    "    labels = []\n",
    "    for i in tqdm(range(df[\"Path\"].shape[0])):\n",
    "        path = wd + df[\"Path\"][i]\n",
    "        label = df[\"ClassId\"][i]\n",
    "        image = cv2.imread(path)\n",
    "        if resize:\n",
    "            image = cv2.resize(image, shape)\n",
    "        if image is not None:\n",
    "            images.append(image)\n",
    "            labels.append(label)\n",
    "    return images, labels"
   ]
  },
  {
   "cell_type": "code",
   "execution_count": 15,
   "id": "74c9c539",
   "metadata": {},
   "outputs": [
    {
     "data": {
      "application/vnd.jupyter.widget-view+json": {
       "model_id": "06005d4a6fa44486ba11ed5b133cf4ca",
       "version_major": 2,
       "version_minor": 0
      },
      "text/plain": [
       "  0%|          | 0/39209 [00:00<?, ?it/s]"
      ]
     },
     "metadata": {},
     "output_type": "display_data"
    },
    {
     "data": {
      "application/vnd.jupyter.widget-view+json": {
       "model_id": "4aa39f043aa3431dbe156fbe102cd472",
       "version_major": 2,
       "version_minor": 0
      },
      "text/plain": [
       "  0%|          | 0/12630 [00:00<?, ?it/s]"
      ]
     },
     "metadata": {},
     "output_type": "display_data"
    }
   ],
   "source": [
    "from sklearn.utils import shuffle\n",
    "\n",
    "X_train, y_train  = image_prep(df_train)\n",
    "X_test, y_test = image_prep(df_test)\n",
    "X_train, y_train = shuffle(X_train, y_train)"
   ]
  },
  {
   "cell_type": "code",
   "execution_count": 16,
   "id": "6f5cc8a9",
   "metadata": {},
   "outputs": [],
   "source": [
    "def construct_image_batch(image_group, BATCH_SIZE):\n",
    "    # get the max image shape\n",
    "    max_shape = (50,50,3)\n",
    "    # construct an image batch object\n",
    "    image_batch = np.zeros((BATCH_SIZE,) + max_shape, dtype='float16')\n",
    "    # copy all images to the upper left part of the image batch object\n",
    "    for image_index, image in tqdm(enumerate(image_group)):\n",
    "        image_batch[image_index, :image.shape[0], :image.shape[1], :image.shape[2]] = image\n",
    "\n",
    "    return image_batch"
   ]
  },
  {
   "cell_type": "code",
   "execution_count": 17,
   "id": "4412c2f1",
   "metadata": {},
   "outputs": [
    {
     "data": {
      "application/vnd.jupyter.widget-view+json": {
       "model_id": "a4f06cf29d204a2c9bc3b62de1fff5fb",
       "version_major": 2,
       "version_minor": 0
      },
      "text/plain": [
       "0it [00:00, ?it/s]"
      ]
     },
     "metadata": {},
     "output_type": "display_data"
    },
    {
     "data": {
      "application/vnd.jupyter.widget-view+json": {
       "model_id": "e1dbfd8e5994476f98d27f4010390001",
       "version_major": 2,
       "version_minor": 0
      },
      "text/plain": [
       "0it [00:00, ?it/s]"
      ]
     },
     "metadata": {},
     "output_type": "display_data"
    }
   ],
   "source": [
    "X_train_fixed = construct_image_batch(X_train, len(X_train))\n",
    "X_test_fixed = construct_image_batch(X_test, len(X_test))"
   ]
  },
  {
   "cell_type": "code",
   "execution_count": 18,
   "id": "1ca5d7a5",
   "metadata": {},
   "outputs": [],
   "source": [
    "y_train, y_test = np.array(y_train), np.array(y_test)"
   ]
  },
  {
   "cell_type": "code",
   "execution_count": 19,
   "id": "7c211125",
   "metadata": {},
   "outputs": [
    {
     "data": {
      "text/plain": [
       "(43,)"
      ]
     },
     "execution_count": 19,
     "metadata": {},
     "output_type": "execute_result"
    }
   ],
   "source": [
    "np.unique(y_train).shape"
   ]
  },
  {
   "cell_type": "code",
   "execution_count": 20,
   "id": "678deb0a",
   "metadata": {},
   "outputs": [],
   "source": [
    "from tensorflow import keras\n",
    "import tensorflow as tf\n",
    "from keras.callbacks import ModelCheckpoint\n",
    "\n",
    "\n",
    "def CNN_model(X_train, X_test, y_train, y_test):\n",
    "    \n",
    "    # Input layer\n",
    "    input_shape = (50,50,3)\n",
    "\n",
    "    model = keras.Sequential([\n",
    "\n",
    "        keras.layers.Conv2D(filters=32, kernel_size=(3,3), activation=\"relu\", input_shape=input_shape),\n",
    "        keras.layers.MaxPooling2D(pool_size=(3,3), strides=(2,2), padding=\"same\"),\n",
    "        keras.layers.BatchNormalization(),\n",
    "\n",
    "        keras.layers.Conv2D(filters=32, kernel_size=(3,3), activation=\"relu\", input_shape=input_shape),\n",
    "        keras.layers.MaxPooling2D(pool_size=(3,3), strides=(2,2), padding=\"same\"),\n",
    "        keras.layers.BatchNormalization(),\n",
    "\n",
    "        keras.layers.Conv2D(filters=32, kernel_size=(2,2), activation=\"relu\", input_shape=input_shape),\n",
    "        keras.layers.MaxPooling2D(pool_size=(2,2), strides=(2,2), padding=\"same\"),\n",
    "        keras.layers.BatchNormalization(),\n",
    "\n",
    "        keras.layers.GlobalAveragePooling2D(),\n",
    "        keras.layers.Dense(256,activation=\"relu\"),\n",
    "        keras.layers.BatchNormalization(),\n",
    "        keras.layers.Dropout((0.25)),\n",
    "        keras.layers.Dense(128,activation=\"relu\"),\n",
    "        keras.layers.BatchNormalization(),\n",
    "        keras.layers.Dropout((0.25)),\n",
    "        keras.layers.Dense(64,activation=\"relu\"),\n",
    "        keras.layers.BatchNormalization(),\n",
    "        keras.layers.Dropout((0.25)),  \n",
    "        keras.layers.Dense(43, activation=\"softmax\")\n",
    "    ])\n",
    "\n",
    "    model.compile(optimizer=tf.keras.optimizers.Adam(learning_rate=0.0001),\n",
    "                  loss='sparse_categorical_crossentropy',metrics=['accuracy'])\n",
    "    \n",
    "    filepath = 'my_best_model.hdf5'\n",
    "    checkpoint = ModelCheckpoint(filepath=filepath, \n",
    "                                 monitor='val_loss',\n",
    "                                 verbose=1, \n",
    "                                 save_best_only=True,\n",
    "                                 mode='min')\n",
    "    callbacks = [checkpoint]\n",
    "    \n",
    "    model.fit(X_train,y_train, validation_split=0.2, epochs=100, verbose=1, batch_size=64, callbacks=callbacks)\n",
    "    \n",
    "    _, accuracy = model.evaluate(X_test, y_test)\n",
    "\n",
    "    print(\"Accuracy: %.2f\" % (accuracy*100))\n",
    "    \n",
    "    return model"
   ]
  },
  {
   "cell_type": "code",
   "execution_count": 21,
   "id": "9515c621",
   "metadata": {},
   "outputs": [
    {
     "name": "stdout",
     "output_type": "stream",
     "text": [
      "Epoch 1/100\n",
      "490/491 [============================>.] - ETA: 0s - loss: 3.8090 - accuracy: 0.0828\n",
      "Epoch 1: val_loss improved from inf to 3.17587, saving model to my_best_model.hdf5\n",
      "491/491 [==============================] - 45s 89ms/step - loss: 3.8088 - accuracy: 0.0828 - val_loss: 3.1759 - val_accuracy: 0.1723\n",
      "Epoch 2/100\n",
      "490/491 [============================>.] - ETA: 0s - loss: 3.1958 - accuracy: 0.1799\n",
      "Epoch 2: val_loss improved from 3.17587 to 2.74216, saving model to my_best_model.hdf5\n",
      "491/491 [==============================] - 41s 84ms/step - loss: 3.1958 - accuracy: 0.1799 - val_loss: 2.7422 - val_accuracy: 0.2663\n",
      "Epoch 3/100\n",
      "490/491 [============================>.] - ETA: 0s - loss: 2.8152 - accuracy: 0.2531\n",
      "Epoch 3: val_loss improved from 2.74216 to 2.43934, saving model to my_best_model.hdf5\n",
      "491/491 [==============================] - 40s 82ms/step - loss: 2.8152 - accuracy: 0.2531 - val_loss: 2.4393 - val_accuracy: 0.3318\n",
      "Epoch 4/100\n",
      "490/491 [============================>.] - ETA: 0s - loss: 2.4821 - accuracy: 0.3171\n",
      "Epoch 4: val_loss improved from 2.43934 to 2.10613, saving model to my_best_model.hdf5\n",
      "491/491 [==============================] - 42s 85ms/step - loss: 2.4822 - accuracy: 0.3171 - val_loss: 2.1061 - val_accuracy: 0.4180\n",
      "Epoch 5/100\n",
      "490/491 [============================>.] - ETA: 0s - loss: 2.2290 - accuracy: 0.3652\n",
      "Epoch 5: val_loss improved from 2.10613 to 1.95651, saving model to my_best_model.hdf5\n",
      "491/491 [==============================] - 42s 86ms/step - loss: 2.2290 - accuracy: 0.3652 - val_loss: 1.9565 - val_accuracy: 0.4257\n",
      "Epoch 6/100\n",
      "490/491 [============================>.] - ETA: 0s - loss: 2.0340 - accuracy: 0.4020\n",
      "Epoch 6: val_loss improved from 1.95651 to 1.81780, saving model to my_best_model.hdf5\n",
      "491/491 [==============================] - 38s 78ms/step - loss: 2.0341 - accuracy: 0.4020 - val_loss: 1.8178 - val_accuracy: 0.4517\n",
      "Epoch 7/100\n",
      "490/491 [============================>.] - ETA: 0s - loss: 1.8841 - accuracy: 0.4393\n",
      "Epoch 7: val_loss improved from 1.81780 to 1.58514, saving model to my_best_model.hdf5\n",
      "491/491 [==============================] - 39s 79ms/step - loss: 1.8843 - accuracy: 0.4393 - val_loss: 1.5851 - val_accuracy: 0.5286\n",
      "Epoch 8/100\n",
      "490/491 [============================>.] - ETA: 0s - loss: 1.7627 - accuracy: 0.4661\n",
      "Epoch 8: val_loss did not improve from 1.58514\n",
      "491/491 [==============================] - 39s 79ms/step - loss: 1.7628 - accuracy: 0.4661 - val_loss: 1.6047 - val_accuracy: 0.5231\n",
      "Epoch 9/100\n",
      "490/491 [============================>.] - ETA: 0s - loss: 1.6757 - accuracy: 0.4871\n",
      "Epoch 9: val_loss improved from 1.58514 to 1.39678, saving model to my_best_model.hdf5\n",
      "491/491 [==============================] - 40s 81ms/step - loss: 1.6758 - accuracy: 0.4871 - val_loss: 1.3968 - val_accuracy: 0.5705\n",
      "Epoch 10/100\n",
      "490/491 [============================>.] - ETA: 0s - loss: 1.5679 - accuracy: 0.5189\n",
      "Epoch 10: val_loss improved from 1.39678 to 1.32690, saving model to my_best_model.hdf5\n",
      "491/491 [==============================] - 40s 81ms/step - loss: 1.5682 - accuracy: 0.5189 - val_loss: 1.3269 - val_accuracy: 0.5881\n",
      "Epoch 11/100\n",
      "490/491 [============================>.] - ETA: 0s - loss: 1.4853 - accuracy: 0.5430\n",
      "Epoch 11: val_loss improved from 1.32690 to 1.17611, saving model to my_best_model.hdf5\n",
      "491/491 [==============================] - 38s 78ms/step - loss: 1.4856 - accuracy: 0.5430 - val_loss: 1.1761 - val_accuracy: 0.6377\n",
      "Epoch 12/100\n",
      "490/491 [============================>.] - ETA: 0s - loss: 1.3949 - accuracy: 0.5749\n",
      "Epoch 12: val_loss improved from 1.17611 to 1.15841, saving model to my_best_model.hdf5\n",
      "491/491 [==============================] - 38s 77ms/step - loss: 1.3950 - accuracy: 0.5749 - val_loss: 1.1584 - val_accuracy: 0.6341\n",
      "Epoch 13/100\n",
      "490/491 [============================>.] - ETA: 0s - loss: 1.3310 - accuracy: 0.5880\n",
      "Epoch 13: val_loss improved from 1.15841 to 1.05237, saving model to my_best_model.hdf5\n",
      "491/491 [==============================] - 41s 84ms/step - loss: 1.3311 - accuracy: 0.5879 - val_loss: 1.0524 - val_accuracy: 0.6761\n",
      "Epoch 14/100\n",
      "490/491 [============================>.] - ETA: 0s - loss: 1.2659 - accuracy: 0.6088\n",
      "Epoch 14: val_loss did not improve from 1.05237\n",
      "491/491 [==============================] - 37s 76ms/step - loss: 1.2660 - accuracy: 0.6087 - val_loss: 1.1386 - val_accuracy: 0.6441\n",
      "Epoch 15/100\n",
      "490/491 [============================>.] - ETA: 0s - loss: 1.2057 - accuracy: 0.6260\n",
      "Epoch 15: val_loss improved from 1.05237 to 1.00512, saving model to my_best_model.hdf5\n",
      "491/491 [==============================] - 37s 76ms/step - loss: 1.2057 - accuracy: 0.6259 - val_loss: 1.0051 - val_accuracy: 0.6959\n",
      "Epoch 16/100\n",
      "490/491 [============================>.] - ETA: 0s - loss: 1.1571 - accuracy: 0.6413\n",
      "Epoch 16: val_loss improved from 1.00512 to 0.93604, saving model to my_best_model.hdf5\n",
      "491/491 [==============================] - 37s 75ms/step - loss: 1.1571 - accuracy: 0.6413 - val_loss: 0.9360 - val_accuracy: 0.6994\n",
      "Epoch 17/100\n",
      "490/491 [============================>.] - ETA: 0s - loss: 1.0965 - accuracy: 0.6560\n",
      "Epoch 17: val_loss improved from 0.93604 to 0.87049, saving model to my_best_model.hdf5\n",
      "491/491 [==============================] - 36s 74ms/step - loss: 1.0972 - accuracy: 0.6559 - val_loss: 0.8705 - val_accuracy: 0.7304\n",
      "Epoch 18/100\n",
      "490/491 [============================>.] - ETA: 0s - loss: 1.0557 - accuracy: 0.6729\n",
      "Epoch 18: val_loss improved from 0.87049 to 0.82667, saving model to my_best_model.hdf5\n",
      "491/491 [==============================] - 40s 81ms/step - loss: 1.0560 - accuracy: 0.6728 - val_loss: 0.8267 - val_accuracy: 0.7390\n",
      "Epoch 19/100\n",
      "490/491 [============================>.] - ETA: 0s - loss: 1.0044 - accuracy: 0.6871\n",
      "Epoch 19: val_loss improved from 0.82667 to 0.78395, saving model to my_best_model.hdf5\n",
      "491/491 [==============================] - 38s 78ms/step - loss: 1.0045 - accuracy: 0.6871 - val_loss: 0.7839 - val_accuracy: 0.7534\n",
      "Epoch 20/100\n",
      "490/491 [============================>.] - ETA: 0s - loss: 0.9644 - accuracy: 0.7008\n",
      "Epoch 20: val_loss did not improve from 0.78395\n",
      "491/491 [==============================] - 38s 78ms/step - loss: 0.9651 - accuracy: 0.7007 - val_loss: 0.8315 - val_accuracy: 0.7443\n",
      "Epoch 21/100\n",
      "490/491 [============================>.] - ETA: 0s - loss: 0.9206 - accuracy: 0.7102\n",
      "Epoch 21: val_loss improved from 0.78395 to 0.71498, saving model to my_best_model.hdf5\n",
      "491/491 [==============================] - 38s 78ms/step - loss: 0.9212 - accuracy: 0.7100 - val_loss: 0.7150 - val_accuracy: 0.7715\n",
      "Epoch 22/100\n",
      "490/491 [============================>.] - ETA: 0s - loss: 0.8841 - accuracy: 0.7234\n",
      "Epoch 22: val_loss improved from 0.71498 to 0.68564, saving model to my_best_model.hdf5\n",
      "491/491 [==============================] - 38s 78ms/step - loss: 0.8840 - accuracy: 0.7234 - val_loss: 0.6856 - val_accuracy: 0.7840\n",
      "Epoch 23/100\n",
      "490/491 [============================>.] - ETA: 0s - loss: 0.8447 - accuracy: 0.7356\n",
      "Epoch 23: val_loss improved from 0.68564 to 0.63562, saving model to my_best_model.hdf5\n",
      "491/491 [==============================] - 38s 76ms/step - loss: 0.8450 - accuracy: 0.7356 - val_loss: 0.6356 - val_accuracy: 0.7962\n",
      "Epoch 24/100\n",
      "490/491 [============================>.] - ETA: 0s - loss: 0.8228 - accuracy: 0.7426\n",
      "Epoch 24: val_loss improved from 0.63562 to 0.56275, saving model to my_best_model.hdf5\n",
      "491/491 [==============================] - 39s 79ms/step - loss: 0.8231 - accuracy: 0.7425 - val_loss: 0.5627 - val_accuracy: 0.8226\n",
      "Epoch 25/100\n",
      "490/491 [============================>.] - ETA: 0s - loss: 0.7879 - accuracy: 0.7526\n",
      "Epoch 25: val_loss did not improve from 0.56275\n",
      "491/491 [==============================] - 40s 82ms/step - loss: 0.7880 - accuracy: 0.7526 - val_loss: 0.5770 - val_accuracy: 0.8180\n",
      "Epoch 26/100\n",
      "490/491 [============================>.] - ETA: 0s - loss: 0.7429 - accuracy: 0.7693\n",
      "Epoch 26: val_loss did not improve from 0.56275\n",
      "491/491 [==============================] - 44s 91ms/step - loss: 0.7431 - accuracy: 0.7692 - val_loss: 0.6087 - val_accuracy: 0.8104\n",
      "Epoch 27/100\n",
      "490/491 [============================>.] - ETA: 0s - loss: 0.7252 - accuracy: 0.7719\n",
      "Epoch 27: val_loss improved from 0.56275 to 0.54838, saving model to my_best_model.hdf5\n"
     ]
    },
    {
     "name": "stdout",
     "output_type": "stream",
     "text": [
      "491/491 [==============================] - 42s 85ms/step - loss: 0.7253 - accuracy: 0.7718 - val_loss: 0.5484 - val_accuracy: 0.8341\n",
      "Epoch 28/100\n",
      "490/491 [============================>.] - ETA: 0s - loss: 0.7061 - accuracy: 0.7777\n",
      "Epoch 28: val_loss did not improve from 0.54838\n",
      "491/491 [==============================] - 42s 86ms/step - loss: 0.7066 - accuracy: 0.7776 - val_loss: 0.5820 - val_accuracy: 0.8173\n",
      "Epoch 29/100\n",
      "490/491 [============================>.] - ETA: 0s - loss: 0.6953 - accuracy: 0.7822\n",
      "Epoch 29: val_loss improved from 0.54838 to 0.47874, saving model to my_best_model.hdf5\n",
      "491/491 [==============================] - 42s 85ms/step - loss: 0.6954 - accuracy: 0.7821 - val_loss: 0.4787 - val_accuracy: 0.8489\n",
      "Epoch 30/100\n",
      "490/491 [============================>.] - ETA: 0s - loss: 0.6558 - accuracy: 0.7923\n",
      "Epoch 30: val_loss did not improve from 0.47874\n",
      "491/491 [==============================] - 40s 82ms/step - loss: 0.6565 - accuracy: 0.7922 - val_loss: 0.4845 - val_accuracy: 0.8406\n",
      "Epoch 31/100\n",
      "490/491 [============================>.] - ETA: 0s - loss: 0.6390 - accuracy: 0.7992\n",
      "Epoch 31: val_loss improved from 0.47874 to 0.43147, saving model to my_best_model.hdf5\n",
      "491/491 [==============================] - 40s 82ms/step - loss: 0.6391 - accuracy: 0.7992 - val_loss: 0.4315 - val_accuracy: 0.8661\n",
      "Epoch 32/100\n",
      "490/491 [============================>.] - ETA: 0s - loss: 0.6163 - accuracy: 0.8068\n",
      "Epoch 32: val_loss did not improve from 0.43147\n",
      "491/491 [==============================] - 40s 82ms/step - loss: 0.6170 - accuracy: 0.8066 - val_loss: 0.4547 - val_accuracy: 0.8593\n",
      "Epoch 33/100\n",
      "490/491 [============================>.] - ETA: 0s - loss: 0.6030 - accuracy: 0.8117\n",
      "Epoch 33: val_loss improved from 0.43147 to 0.40250, saving model to my_best_model.hdf5\n",
      "491/491 [==============================] - 44s 89ms/step - loss: 0.6034 - accuracy: 0.8116 - val_loss: 0.4025 - val_accuracy: 0.8730\n",
      "Epoch 34/100\n",
      "490/491 [============================>.] - ETA: 0s - loss: 0.5900 - accuracy: 0.8136\n",
      "Epoch 34: val_loss did not improve from 0.40250\n",
      "491/491 [==============================] - 44s 89ms/step - loss: 0.5902 - accuracy: 0.8136 - val_loss: 0.4769 - val_accuracy: 0.8505\n",
      "Epoch 35/100\n",
      "490/491 [============================>.] - ETA: 0s - loss: 0.5560 - accuracy: 0.8271\n",
      "Epoch 35: val_loss improved from 0.40250 to 0.38724, saving model to my_best_model.hdf5\n",
      "491/491 [==============================] - 44s 90ms/step - loss: 0.5563 - accuracy: 0.8270 - val_loss: 0.3872 - val_accuracy: 0.8757\n",
      "Epoch 36/100\n",
      "490/491 [============================>.] - ETA: 0s - loss: 0.5353 - accuracy: 0.8305\n",
      "Epoch 36: val_loss did not improve from 0.38724\n",
      "491/491 [==============================] - 41s 83ms/step - loss: 0.5354 - accuracy: 0.8305 - val_loss: 0.3906 - val_accuracy: 0.8805\n",
      "Epoch 37/100\n",
      "490/491 [============================>.] - ETA: 0s - loss: 0.5304 - accuracy: 0.8335\n",
      "Epoch 37: val_loss did not improve from 0.38724\n",
      "491/491 [==============================] - 43s 88ms/step - loss: 0.5305 - accuracy: 0.8334 - val_loss: 0.4219 - val_accuracy: 0.8629\n",
      "Epoch 38/100\n",
      "490/491 [============================>.] - ETA: 0s - loss: 0.5065 - accuracy: 0.8415\n",
      "Epoch 38: val_loss improved from 0.38724 to 0.36415, saving model to my_best_model.hdf5\n",
      "491/491 [==============================] - 46s 93ms/step - loss: 0.5068 - accuracy: 0.8415 - val_loss: 0.3641 - val_accuracy: 0.8908\n",
      "Epoch 39/100\n",
      "490/491 [============================>.] - ETA: 0s - loss: 0.4966 - accuracy: 0.8436\n",
      "Epoch 39: val_loss improved from 0.36415 to 0.33995, saving model to my_best_model.hdf5\n",
      "491/491 [==============================] - 42s 86ms/step - loss: 0.4969 - accuracy: 0.8435 - val_loss: 0.3400 - val_accuracy: 0.8962\n",
      "Epoch 40/100\n",
      "490/491 [============================>.] - ETA: 0s - loss: 0.4790 - accuracy: 0.8502\n",
      "Epoch 40: val_loss improved from 0.33995 to 0.30336, saving model to my_best_model.hdf5\n",
      "491/491 [==============================] - 44s 89ms/step - loss: 0.4794 - accuracy: 0.8501 - val_loss: 0.3034 - val_accuracy: 0.9073\n",
      "Epoch 41/100\n",
      "490/491 [============================>.] - ETA: 0s - loss: 0.4692 - accuracy: 0.8501\n",
      "Epoch 41: val_loss did not improve from 0.30336\n",
      "491/491 [==============================] - 43s 88ms/step - loss: 0.4693 - accuracy: 0.8500 - val_loss: 0.3629 - val_accuracy: 0.8857\n",
      "Epoch 42/100\n",
      "490/491 [============================>.] - ETA: 0s - loss: 0.4439 - accuracy: 0.8609\n",
      "Epoch 42: val_loss improved from 0.30336 to 0.29754, saving model to my_best_model.hdf5\n",
      "491/491 [==============================] - 43s 87ms/step - loss: 0.4440 - accuracy: 0.8609 - val_loss: 0.2975 - val_accuracy: 0.9049\n",
      "Epoch 43/100\n",
      "490/491 [============================>.] - ETA: 0s - loss: 0.4434 - accuracy: 0.8585\n",
      "Epoch 43: val_loss did not improve from 0.29754\n",
      "491/491 [==============================] - 43s 87ms/step - loss: 0.4436 - accuracy: 0.8584 - val_loss: 0.3923 - val_accuracy: 0.8780\n",
      "Epoch 44/100\n",
      "490/491 [============================>.] - ETA: 0s - loss: 0.4435 - accuracy: 0.8614\n",
      "Epoch 44: val_loss did not improve from 0.29754\n",
      "491/491 [==============================] - 42s 85ms/step - loss: 0.4437 - accuracy: 0.8613 - val_loss: 0.3189 - val_accuracy: 0.9026\n",
      "Epoch 45/100\n",
      "490/491 [============================>.] - ETA: 0s - loss: 0.4219 - accuracy: 0.8685\n",
      "Epoch 45: val_loss improved from 0.29754 to 0.27789, saving model to my_best_model.hdf5\n",
      "491/491 [==============================] - 42s 85ms/step - loss: 0.4224 - accuracy: 0.8685 - val_loss: 0.2779 - val_accuracy: 0.9130\n",
      "Epoch 46/100\n",
      "490/491 [============================>.] - ETA: 0s - loss: 0.4113 - accuracy: 0.8710\n",
      "Epoch 46: val_loss improved from 0.27789 to 0.25829, saving model to my_best_model.hdf5\n",
      "491/491 [==============================] - 41s 84ms/step - loss: 0.4113 - accuracy: 0.8710 - val_loss: 0.2583 - val_accuracy: 0.9199\n",
      "Epoch 47/100\n",
      "490/491 [============================>.] - ETA: 0s - loss: 0.3875 - accuracy: 0.8782\n",
      "Epoch 47: val_loss did not improve from 0.25829\n",
      "491/491 [==============================] - 38s 77ms/step - loss: 0.3878 - accuracy: 0.8781 - val_loss: 0.3669 - val_accuracy: 0.8891\n",
      "Epoch 48/100\n",
      "490/491 [============================>.] - ETA: 0s - loss: 0.3866 - accuracy: 0.8763\n",
      "Epoch 48: val_loss did not improve from 0.25829\n",
      "491/491 [==============================] - 38s 77ms/step - loss: 0.3867 - accuracy: 0.8762 - val_loss: 0.2887 - val_accuracy: 0.9120\n",
      "Epoch 49/100\n",
      "490/491 [============================>.] - ETA: 0s - loss: 0.3865 - accuracy: 0.8791\n",
      "Epoch 49: val_loss improved from 0.25829 to 0.24498, saving model to my_best_model.hdf5\n",
      "491/491 [==============================] - 38s 76ms/step - loss: 0.3869 - accuracy: 0.8791 - val_loss: 0.2450 - val_accuracy: 0.9231\n",
      "Epoch 50/100\n",
      "490/491 [============================>.] - ETA: 0s - loss: 0.3676 - accuracy: 0.8842\n",
      "Epoch 50: val_loss did not improve from 0.24498\n",
      "491/491 [==============================] - 38s 76ms/step - loss: 0.3679 - accuracy: 0.8841 - val_loss: 0.2610 - val_accuracy: 0.9165\n",
      "Epoch 51/100\n",
      "490/491 [============================>.] - ETA: 0s - loss: 0.3633 - accuracy: 0.8858\n",
      "Epoch 51: val_loss improved from 0.24498 to 0.22338, saving model to my_best_model.hdf5\n",
      "491/491 [==============================] - 38s 77ms/step - loss: 0.3633 - accuracy: 0.8858 - val_loss: 0.2234 - val_accuracy: 0.9273\n",
      "Epoch 52/100\n",
      "490/491 [============================>.] - ETA: 0s - loss: 0.3443 - accuracy: 0.8924\n",
      "Epoch 52: val_loss improved from 0.22338 to 0.21119, saving model to my_best_model.hdf5\n",
      "491/491 [==============================] - 38s 76ms/step - loss: 0.3446 - accuracy: 0.8924 - val_loss: 0.2112 - val_accuracy: 0.9319\n",
      "Epoch 53/100\n",
      "490/491 [============================>.] - ETA: 0s - loss: 0.3453 - accuracy: 0.8923\n",
      "Epoch 53: val_loss did not improve from 0.21119\n",
      "491/491 [==============================] - 38s 78ms/step - loss: 0.3454 - accuracy: 0.8923 - val_loss: 0.2252 - val_accuracy: 0.9299\n",
      "Epoch 54/100\n",
      "490/491 [============================>.] - ETA: 0s - loss: 0.3264 - accuracy: 0.8980\n",
      "Epoch 54: val_loss improved from 0.21119 to 0.20012, saving model to my_best_model.hdf5\n",
      "491/491 [==============================] - 38s 77ms/step - loss: 0.3264 - accuracy: 0.8980 - val_loss: 0.2001 - val_accuracy: 0.9368\n"
     ]
    },
    {
     "name": "stdout",
     "output_type": "stream",
     "text": [
      "Epoch 55/100\n",
      "490/491 [============================>.] - ETA: 0s - loss: 0.3229 - accuracy: 0.8975\n",
      "Epoch 55: val_loss did not improve from 0.20012\n",
      "491/491 [==============================] - 37s 76ms/step - loss: 0.3229 - accuracy: 0.8975 - val_loss: 0.2368 - val_accuracy: 0.9262\n",
      "Epoch 56/100\n",
      "490/491 [============================>.] - ETA: 0s - loss: 0.3170 - accuracy: 0.9019\n",
      "Epoch 56: val_loss did not improve from 0.20012\n",
      "491/491 [==============================] - 38s 77ms/step - loss: 0.3171 - accuracy: 0.9018 - val_loss: 0.2044 - val_accuracy: 0.9365\n",
      "Epoch 57/100\n",
      "490/491 [============================>.] - ETA: 0s - loss: 0.3193 - accuracy: 0.8996\n",
      "Epoch 57: val_loss did not improve from 0.20012\n",
      "491/491 [==============================] - 38s 76ms/step - loss: 0.3194 - accuracy: 0.8995 - val_loss: 0.2023 - val_accuracy: 0.9352\n",
      "Epoch 58/100\n",
      "490/491 [============================>.] - ETA: 0s - loss: 0.3029 - accuracy: 0.9045\n",
      "Epoch 58: val_loss improved from 0.20012 to 0.17978, saving model to my_best_model.hdf5\n",
      "491/491 [==============================] - 39s 80ms/step - loss: 0.3031 - accuracy: 0.9045 - val_loss: 0.1798 - val_accuracy: 0.9419\n",
      "Epoch 59/100\n",
      "490/491 [============================>.] - ETA: 0s - loss: 0.2920 - accuracy: 0.9090\n",
      "Epoch 59: val_loss improved from 0.17978 to 0.16939, saving model to my_best_model.hdf5\n",
      "491/491 [==============================] - 38s 77ms/step - loss: 0.2920 - accuracy: 0.9090 - val_loss: 0.1694 - val_accuracy: 0.9457\n",
      "Epoch 60/100\n",
      "490/491 [============================>.] - ETA: 0s - loss: 0.2827 - accuracy: 0.9110\n",
      "Epoch 60: val_loss did not improve from 0.16939\n",
      "491/491 [==============================] - 37s 76ms/step - loss: 0.2836 - accuracy: 0.9108 - val_loss: 0.2111 - val_accuracy: 0.9322\n",
      "Epoch 61/100\n",
      "490/491 [============================>.] - ETA: 0s - loss: 0.2938 - accuracy: 0.9080\n",
      "Epoch 61: val_loss did not improve from 0.16939\n",
      "491/491 [==============================] - 37s 76ms/step - loss: 0.2941 - accuracy: 0.9080 - val_loss: 0.1754 - val_accuracy: 0.9417\n",
      "Epoch 62/100\n",
      "490/491 [============================>.] - ETA: 0s - loss: 0.2773 - accuracy: 0.9132\n",
      "Epoch 62: val_loss did not improve from 0.16939\n",
      "491/491 [==============================] - 37s 76ms/step - loss: 0.2774 - accuracy: 0.9132 - val_loss: 0.4156 - val_accuracy: 0.8852\n",
      "Epoch 63/100\n",
      "490/491 [============================>.] - ETA: 0s - loss: 0.2704 - accuracy: 0.9161\n",
      "Epoch 63: val_loss improved from 0.16939 to 0.16859, saving model to my_best_model.hdf5\n",
      "491/491 [==============================] - 38s 77ms/step - loss: 0.2705 - accuracy: 0.9161 - val_loss: 0.1686 - val_accuracy: 0.9454\n",
      "Epoch 64/100\n",
      "490/491 [============================>.] - ETA: 0s - loss: 0.2757 - accuracy: 0.9133\n",
      "Epoch 64: val_loss improved from 0.16859 to 0.15086, saving model to my_best_model.hdf5\n",
      "491/491 [==============================] - 38s 77ms/step - loss: 0.2759 - accuracy: 0.9133 - val_loss: 0.1509 - val_accuracy: 0.9503\n",
      "Epoch 65/100\n",
      "490/491 [============================>.] - ETA: 0s - loss: 0.2672 - accuracy: 0.9154\n",
      "Epoch 65: val_loss did not improve from 0.15086\n",
      "491/491 [==============================] - 38s 77ms/step - loss: 0.2676 - accuracy: 0.9154 - val_loss: 0.2275 - val_accuracy: 0.9269\n",
      "Epoch 66/100\n",
      "490/491 [============================>.] - ETA: 0s - loss: 0.2605 - accuracy: 0.9194\n",
      "Epoch 66: val_loss did not improve from 0.15086\n",
      "491/491 [==============================] - 38s 78ms/step - loss: 0.2606 - accuracy: 0.9194 - val_loss: 0.1977 - val_accuracy: 0.9359\n",
      "Epoch 67/100\n",
      "490/491 [============================>.] - ETA: 0s - loss: 0.2469 - accuracy: 0.9224\n",
      "Epoch 67: val_loss did not improve from 0.15086\n",
      "491/491 [==============================] - 41s 84ms/step - loss: 0.2475 - accuracy: 0.9222 - val_loss: 0.1553 - val_accuracy: 0.9500\n",
      "Epoch 68/100\n",
      "490/491 [============================>.] - ETA: 0s - loss: 0.2510 - accuracy: 0.9206\n",
      "Epoch 68: val_loss improved from 0.15086 to 0.13717, saving model to my_best_model.hdf5\n",
      "491/491 [==============================] - 42s 85ms/step - loss: 0.2510 - accuracy: 0.9206 - val_loss: 0.1372 - val_accuracy: 0.9535\n",
      "Epoch 69/100\n",
      "490/491 [============================>.] - ETA: 0s - loss: 0.2424 - accuracy: 0.9246\n",
      "Epoch 69: val_loss did not improve from 0.13717\n",
      "491/491 [==============================] - 39s 79ms/step - loss: 0.2425 - accuracy: 0.9246 - val_loss: 0.2015 - val_accuracy: 0.9348\n",
      "Epoch 70/100\n",
      "490/491 [============================>.] - ETA: 0s - loss: 0.2495 - accuracy: 0.9216\n",
      "Epoch 70: val_loss did not improve from 0.13717\n",
      "491/491 [==============================] - 40s 81ms/step - loss: 0.2497 - accuracy: 0.9216 - val_loss: 0.1411 - val_accuracy: 0.9518\n",
      "Epoch 71/100\n",
      "490/491 [============================>.] - ETA: 0s - loss: 0.2343 - accuracy: 0.9261\n",
      "Epoch 71: val_loss improved from 0.13717 to 0.12386, saving model to my_best_model.hdf5\n",
      "491/491 [==============================] - 39s 80ms/step - loss: 0.2345 - accuracy: 0.9261 - val_loss: 0.1239 - val_accuracy: 0.9561\n",
      "Epoch 72/100\n",
      "490/491 [============================>.] - ETA: 0s - loss: 0.2272 - accuracy: 0.9271\n",
      "Epoch 72: val_loss did not improve from 0.12386\n",
      "491/491 [==============================] - 40s 81ms/step - loss: 0.2274 - accuracy: 0.9271 - val_loss: 0.1327 - val_accuracy: 0.9582\n",
      "Epoch 73/100\n",
      "490/491 [============================>.] - ETA: 0s - loss: 0.2243 - accuracy: 0.9299\n",
      "Epoch 73: val_loss did not improve from 0.12386\n",
      "491/491 [==============================] - 42s 85ms/step - loss: 0.2243 - accuracy: 0.9299 - val_loss: 0.1608 - val_accuracy: 0.9485\n",
      "Epoch 74/100\n",
      "490/491 [============================>.] - ETA: 0s - loss: 0.2219 - accuracy: 0.9303\n",
      "Epoch 74: val_loss did not improve from 0.12386\n",
      "491/491 [==============================] - 42s 86ms/step - loss: 0.2219 - accuracy: 0.9302 - val_loss: 0.1283 - val_accuracy: 0.9572\n",
      "Epoch 75/100\n",
      "490/491 [============================>.] - ETA: 0s - loss: 0.2132 - accuracy: 0.9333\n",
      "Epoch 75: val_loss did not improve from 0.12386\n",
      "491/491 [==============================] - 42s 87ms/step - loss: 0.2132 - accuracy: 0.9333 - val_loss: 0.1469 - val_accuracy: 0.9504\n",
      "Epoch 76/100\n",
      "490/491 [============================>.] - ETA: 0s - loss: 0.2184 - accuracy: 0.9313\n",
      "Epoch 76: val_loss did not improve from 0.12386\n",
      "491/491 [==============================] - 39s 79ms/step - loss: 0.2184 - accuracy: 0.9313 - val_loss: 0.2002 - val_accuracy: 0.9375\n",
      "Epoch 77/100\n",
      "490/491 [============================>.] - ETA: 0s - loss: 0.2128 - accuracy: 0.9330\n",
      "Epoch 77: val_loss did not improve from 0.12386\n",
      "491/491 [==============================] - 39s 78ms/step - loss: 0.2129 - accuracy: 0.9330 - val_loss: 0.1702 - val_accuracy: 0.9484\n",
      "Epoch 78/100\n",
      "490/491 [============================>.] - ETA: 0s - loss: 0.2045 - accuracy: 0.9349\n",
      "Epoch 78: val_loss did not improve from 0.12386\n",
      "491/491 [==============================] - 38s 78ms/step - loss: 0.2047 - accuracy: 0.9348 - val_loss: 0.1426 - val_accuracy: 0.9528\n",
      "Epoch 79/100\n",
      "490/491 [============================>.] - ETA: 0s - loss: 0.2014 - accuracy: 0.9380\n",
      "Epoch 79: val_loss improved from 0.12386 to 0.11547, saving model to my_best_model.hdf5\n",
      "491/491 [==============================] - 38s 78ms/step - loss: 0.2017 - accuracy: 0.9379 - val_loss: 0.1155 - val_accuracy: 0.9629\n",
      "Epoch 80/100\n",
      "490/491 [============================>.] - ETA: 0s - loss: 0.2079 - accuracy: 0.9345\n",
      "Epoch 80: val_loss did not improve from 0.11547\n",
      "491/491 [==============================] - 38s 78ms/step - loss: 0.2085 - accuracy: 0.9344 - val_loss: 0.1670 - val_accuracy: 0.9475\n",
      "Epoch 81/100\n",
      "490/491 [============================>.] - ETA: 0s - loss: 0.1798 - accuracy: 0.9440\n",
      "Epoch 81: val_loss did not improve from 0.11547\n",
      "491/491 [==============================] - 39s 79ms/step - loss: 0.1799 - accuracy: 0.9440 - val_loss: 0.1504 - val_accuracy: 0.9515\n",
      "Epoch 82/100\n",
      "490/491 [============================>.] - ETA: 0s - loss: 0.1909 - accuracy: 0.9413\n",
      "Epoch 82: val_loss improved from 0.11547 to 0.11191, saving model to my_best_model.hdf5\n",
      "491/491 [==============================] - 38s 78ms/step - loss: 0.1913 - accuracy: 0.9413 - val_loss: 0.1119 - val_accuracy: 0.9626\n",
      "Epoch 83/100\n",
      "490/491 [============================>.] - ETA: 0s - loss: 0.1958 - accuracy: 0.9385\n",
      "Epoch 83: val_loss did not improve from 0.11191\n",
      "491/491 [==============================] - 39s 80ms/step - loss: 0.1960 - accuracy: 0.9384 - val_loss: 0.1623 - val_accuracy: 0.9466\n",
      "Epoch 84/100\n",
      "490/491 [============================>.] - ETA: 0s - loss: 0.1860 - accuracy: 0.9423\n",
      "Epoch 84: val_loss did not improve from 0.11191\n",
      "491/491 [==============================] - 38s 78ms/step - loss: 0.1866 - accuracy: 0.9422 - val_loss: 0.1345 - val_accuracy: 0.9566\n",
      "Epoch 85/100\n",
      "490/491 [============================>.] - ETA: 0s - loss: 0.1844 - accuracy: 0.9431\n",
      "Epoch 85: val_loss improved from 0.11191 to 0.10131, saving model to my_best_model.hdf5\n",
      "491/491 [==============================] - 38s 78ms/step - loss: 0.1845 - accuracy: 0.9430 - val_loss: 0.1013 - val_accuracy: 0.9670\n",
      "Epoch 86/100\n",
      "490/491 [============================>.] - ETA: 0s - loss: 0.1770 - accuracy: 0.9451\n",
      "Epoch 86: val_loss improved from 0.10131 to 0.09784, saving model to my_best_model.hdf5\n",
      "491/491 [==============================] - 39s 79ms/step - loss: 0.1772 - accuracy: 0.9450 - val_loss: 0.0978 - val_accuracy: 0.9689\n",
      "Epoch 87/100\n",
      "490/491 [============================>.] - ETA: 0s - loss: 0.1805 - accuracy: 0.9415\n",
      "Epoch 87: val_loss improved from 0.09784 to 0.09762, saving model to my_best_model.hdf5\n",
      "491/491 [==============================] - 38s 77ms/step - loss: 0.1813 - accuracy: 0.9415 - val_loss: 0.0976 - val_accuracy: 0.9685\n",
      "Epoch 88/100\n",
      "490/491 [============================>.] - ETA: 0s - loss: 0.1778 - accuracy: 0.9450\n",
      "Epoch 88: val_loss did not improve from 0.09762\n",
      "491/491 [==============================] - 38s 77ms/step - loss: 0.1782 - accuracy: 0.9449 - val_loss: 0.1216 - val_accuracy: 0.9598\n",
      "Epoch 89/100\n",
      "490/491 [============================>.] - ETA: 0s - loss: 0.1677 - accuracy: 0.9473\n",
      "Epoch 89: val_loss improved from 0.09762 to 0.09474, saving model to my_best_model.hdf5\n",
      "491/491 [==============================] - 38s 78ms/step - loss: 0.1678 - accuracy: 0.9473 - val_loss: 0.0947 - val_accuracy: 0.9682\n",
      "Epoch 90/100\n",
      "490/491 [============================>.] - ETA: 0s - loss: 0.1664 - accuracy: 0.9479\n",
      "Epoch 90: val_loss did not improve from 0.09474\n",
      "491/491 [==============================] - 38s 77ms/step - loss: 0.1668 - accuracy: 0.9478 - val_loss: 0.1129 - val_accuracy: 0.9644\n",
      "Epoch 91/100\n",
      "490/491 [============================>.] - ETA: 0s - loss: 0.1686 - accuracy: 0.9474\n",
      "Epoch 91: val_loss did not improve from 0.09474\n",
      "491/491 [==============================] - 37s 75ms/step - loss: 0.1691 - accuracy: 0.9473 - val_loss: 0.1468 - val_accuracy: 0.9518\n",
      "Epoch 92/100\n",
      "490/491 [============================>.] - ETA: 0s - loss: 0.1657 - accuracy: 0.9480\n",
      "Epoch 92: val_loss did not improve from 0.09474\n",
      "491/491 [==============================] - 37s 76ms/step - loss: 0.1661 - accuracy: 0.9479 - val_loss: 0.1238 - val_accuracy: 0.9589\n",
      "Epoch 93/100\n",
      "490/491 [============================>.] - ETA: 0s - loss: 0.1661 - accuracy: 0.9472\n",
      "Epoch 93: val_loss improved from 0.09474 to 0.09243, saving model to my_best_model.hdf5\n",
      "491/491 [==============================] - 37s 76ms/step - loss: 0.1663 - accuracy: 0.9472 - val_loss: 0.0924 - val_accuracy: 0.9672\n",
      "Epoch 94/100\n",
      "490/491 [============================>.] - ETA: 0s - loss: 0.1529 - accuracy: 0.9521\n",
      "Epoch 94: val_loss improved from 0.09243 to 0.08299, saving model to my_best_model.hdf5\n",
      "491/491 [==============================] - 37s 76ms/step - loss: 0.1529 - accuracy: 0.9521 - val_loss: 0.0830 - val_accuracy: 0.9731\n",
      "Epoch 95/100\n",
      "490/491 [============================>.] - ETA: 0s - loss: 0.1493 - accuracy: 0.9538\n",
      "Epoch 95: val_loss did not improve from 0.08299\n",
      "491/491 [==============================] - 38s 77ms/step - loss: 0.1494 - accuracy: 0.9538 - val_loss: 0.0959 - val_accuracy: 0.9679\n",
      "Epoch 96/100\n",
      "490/491 [============================>.] - ETA: 0s - loss: 0.1524 - accuracy: 0.9520\n",
      "Epoch 96: val_loss did not improve from 0.08299\n",
      "491/491 [==============================] - 37s 76ms/step - loss: 0.1525 - accuracy: 0.9520 - val_loss: 0.1071 - val_accuracy: 0.9614\n",
      "Epoch 97/100\n",
      "490/491 [============================>.] - ETA: 0s - loss: 0.1548 - accuracy: 0.9518\n",
      "Epoch 97: val_loss did not improve from 0.08299\n",
      "491/491 [==============================] - 37s 76ms/step - loss: 0.1548 - accuracy: 0.9518 - val_loss: 0.0931 - val_accuracy: 0.9686\n",
      "Epoch 98/100\n",
      "490/491 [============================>.] - ETA: 0s - loss: 0.1490 - accuracy: 0.9537\n",
      "Epoch 98: val_loss improved from 0.08299 to 0.07453, saving model to my_best_model.hdf5\n",
      "491/491 [==============================] - 38s 76ms/step - loss: 0.1493 - accuracy: 0.9537 - val_loss: 0.0745 - val_accuracy: 0.9736\n",
      "Epoch 99/100\n",
      "490/491 [============================>.] - ETA: 0s - loss: 0.1432 - accuracy: 0.9550\n",
      "Epoch 99: val_loss did not improve from 0.07453\n",
      "491/491 [==============================] - 37s 76ms/step - loss: 0.1432 - accuracy: 0.9550 - val_loss: 0.0973 - val_accuracy: 0.9666\n",
      "Epoch 100/100\n",
      "490/491 [============================>.] - ETA: 0s - loss: 0.1406 - accuracy: 0.9554\n",
      "Epoch 100: val_loss did not improve from 0.07453\n",
      "491/491 [==============================] - 38s 77ms/step - loss: 0.1410 - accuracy: 0.9553 - val_loss: 0.0938 - val_accuracy: 0.9675\n",
      "395/395 [==============================] - 4s 11ms/step - loss: 0.4746 - accuracy: 0.8754\n",
      "Accuracy: 87.54\n"
     ]
    }
   ],
   "source": [
    "model = CNN_model(X_train_fixed,X_test_fixed,y_train,y_test)"
   ]
  },
  {
   "cell_type": "code",
   "execution_count": 22,
   "id": "29418172",
   "metadata": {},
   "outputs": [],
   "source": [
    "model.save(\"capstone_rgb.h5\", save_format = \"h5\")"
   ]
  }
 ],
 "metadata": {
  "kernelspec": {
   "display_name": "Python 3 (ipykernel)",
   "language": "python",
   "name": "python3"
  },
  "language_info": {
   "codemirror_mode": {
    "name": "ipython",
    "version": 3
   },
   "file_extension": ".py",
   "mimetype": "text/x-python",
   "name": "python",
   "nbconvert_exporter": "python",
   "pygments_lexer": "ipython3",
   "version": "3.9.7"
  }
 },
 "nbformat": 4,
 "nbformat_minor": 5
}
